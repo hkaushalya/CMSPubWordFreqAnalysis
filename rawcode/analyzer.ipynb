{
 "metadata": {
  "name": ""
 },
 "nbformat": 3,
 "nbformat_minor": 0,
 "worksheets": [
  {
   "cells": [
    {
     "cell_type": "code",
     "collapsed": false,
     "input": [
      "import pandas as pd\n",
      "from matplotlib import pylab as pl \n",
      "import string\n",
      "import scipy.stats\n",
      "%matplotlib inline"
     ],
     "language": "python",
     "metadata": {},
     "outputs": [],
     "prompt_number": 101
    },
    {
     "cell_type": "code",
     "collapsed": false,
     "input": [
      "df_14 = pd.read_csv('../data/cmssusypaps/2014_SUS/wordcounts.txt')\n",
      "df_11 = pd.read_csv('../data/cmssusypaps/2011_SUS/wordcounts.txt')\n",
      "df_10 = pd.read_csv('../data/cmssusypaps/2010_tech/wordcounts.txt')"
     ],
     "language": "python",
     "metadata": {},
     "outputs": [],
     "prompt_number": 102
    },
    {
     "cell_type": "code",
     "collapsed": false,
     "input": [
      "df_14.head(10)\n",
      "df_14.shape"
     ],
     "language": "python",
     "metadata": {},
     "outputs": [
      {
       "metadata": {},
       "output_type": "pyout",
       "prompt_number": 103,
       "text": [
        "(28, 2)"
       ]
      }
     ],
     "prompt_number": 103
    },
    {
     "cell_type": "code",
     "collapsed": false,
     "input": [
      "df_11.head(10)"
     ],
     "language": "python",
     "metadata": {},
     "outputs": [
      {
       "html": [
        "<div style=\"max-height:1000px;max-width:1500px;overflow:auto;\">\n",
        "<table border=\"1\" class=\"dataframe\">\n",
        "  <thead>\n",
        "    <tr style=\"text-align: right;\">\n",
        "      <th></th>\n",
        "      <th>word</th>\n",
        "      <th>norm_count</th>\n",
        "    </tr>\n",
        "  </thead>\n",
        "  <tbody>\n",
        "    <tr>\n",
        "      <th>0</th>\n",
        "      <td>     all</td>\n",
        "      <td>  12</td>\n",
        "    </tr>\n",
        "    <tr>\n",
        "      <th>1</th>\n",
        "      <td>    also</td>\n",
        "      <td>   8</td>\n",
        "    </tr>\n",
        "    <tr>\n",
        "      <th>2</th>\n",
        "      <td>      an</td>\n",
        "      <td>  20</td>\n",
        "    </tr>\n",
        "    <tr>\n",
        "      <th>3</th>\n",
        "      <td>     and</td>\n",
        "      <td> 151</td>\n",
        "    </tr>\n",
        "    <tr>\n",
        "      <th>4</th>\n",
        "      <td>     are</td>\n",
        "      <td>  72</td>\n",
        "    </tr>\n",
        "    <tr>\n",
        "      <th>5</th>\n",
        "      <td>      as</td>\n",
        "      <td>  42</td>\n",
        "    </tr>\n",
        "    <tr>\n",
        "      <th>6</th>\n",
        "      <td>      be</td>\n",
        "      <td>  23</td>\n",
        "    </tr>\n",
        "    <tr>\n",
        "      <th>7</th>\n",
        "      <td> between</td>\n",
        "      <td>   9</td>\n",
        "    </tr>\n",
        "    <tr>\n",
        "      <th>8</th>\n",
        "      <td>    both</td>\n",
        "      <td>   8</td>\n",
        "    </tr>\n",
        "    <tr>\n",
        "      <th>9</th>\n",
        "      <td>      by</td>\n",
        "      <td>  36</td>\n",
        "    </tr>\n",
        "  </tbody>\n",
        "</table>\n",
        "<p>10 rows \u00d7 2 columns</p>\n",
        "</div>"
       ],
       "metadata": {},
       "output_type": "pyout",
       "prompt_number": 104,
       "text": [
        "      word  norm_count\n",
        "0      all          12\n",
        "1     also           8\n",
        "2       an          20\n",
        "3      and         151\n",
        "4      are          72\n",
        "5       as          42\n",
        "6       be          23\n",
        "7  between           9\n",
        "8     both           8\n",
        "9       by          36\n",
        "\n",
        "[10 rows x 2 columns]"
       ]
      }
     ],
     "prompt_number": 104
    },
    {
     "cell_type": "code",
     "collapsed": false,
     "input": [
      "df_10.head(10)"
     ],
     "language": "python",
     "metadata": {},
     "outputs": [
      {
       "html": [
        "<div style=\"max-height:1000px;max-width:1500px;overflow:auto;\">\n",
        "<table border=\"1\" class=\"dataframe\">\n",
        "  <thead>\n",
        "    <tr style=\"text-align: right;\">\n",
        "      <th></th>\n",
        "      <th>word</th>\n",
        "      <th>norm_count</th>\n",
        "    </tr>\n",
        "  </thead>\n",
        "  <tbody>\n",
        "    <tr>\n",
        "      <th>0</th>\n",
        "      <td>     all</td>\n",
        "      <td>  20</td>\n",
        "    </tr>\n",
        "    <tr>\n",
        "      <th>1</th>\n",
        "      <td>    also</td>\n",
        "      <td>   9</td>\n",
        "    </tr>\n",
        "    <tr>\n",
        "      <th>2</th>\n",
        "      <td>      an</td>\n",
        "      <td>  20</td>\n",
        "    </tr>\n",
        "    <tr>\n",
        "      <th>3</th>\n",
        "      <td>     and</td>\n",
        "      <td> 181</td>\n",
        "    </tr>\n",
        "    <tr>\n",
        "      <th>4</th>\n",
        "      <td>     are</td>\n",
        "      <td>  63</td>\n",
        "    </tr>\n",
        "    <tr>\n",
        "      <th>5</th>\n",
        "      <td>      as</td>\n",
        "      <td>  46</td>\n",
        "    </tr>\n",
        "    <tr>\n",
        "      <th>6</th>\n",
        "      <td>      be</td>\n",
        "      <td>  31</td>\n",
        "    </tr>\n",
        "    <tr>\n",
        "      <th>7</th>\n",
        "      <td> between</td>\n",
        "      <td>  18</td>\n",
        "    </tr>\n",
        "    <tr>\n",
        "      <th>8</th>\n",
        "      <td>    both</td>\n",
        "      <td>   7</td>\n",
        "    </tr>\n",
        "    <tr>\n",
        "      <th>9</th>\n",
        "      <td>      by</td>\n",
        "      <td>  44</td>\n",
        "    </tr>\n",
        "  </tbody>\n",
        "</table>\n",
        "<p>10 rows \u00d7 2 columns</p>\n",
        "</div>"
       ],
       "metadata": {},
       "output_type": "pyout",
       "prompt_number": 105,
       "text": [
        "      word  norm_count\n",
        "0      all          20\n",
        "1     also           9\n",
        "2       an          20\n",
        "3      and         181\n",
        "4      are          63\n",
        "5       as          46\n",
        "6       be          31\n",
        "7  between          18\n",
        "8     both           7\n",
        "9       by          44\n",
        "\n",
        "[10 rows x 2 columns]"
       ]
      }
     ],
     "prompt_number": 105
    },
    {
     "cell_type": "code",
     "collapsed": false,
     "input": [
      "pl.bar(range(df_14.shape[0]), df_14.norm_count, align='center', )\n",
      "pl.xticks(range(df_14.shape[0]), df_14.word, size='medium', rotation='vertical')"
     ],
     "language": "python",
     "metadata": {},
     "outputs": [
      {
       "metadata": {},
       "output_type": "pyout",
       "prompt_number": 108,
       "text": [
        "([<matplotlib.axis.XTick at 0x7f0b0b17c250>,\n",
        "  <matplotlib.axis.XTick at 0x7f0b0b123e90>,\n",
        "  <matplotlib.axis.XTick at 0x7f0b0b043c10>,\n",
        "  <matplotlib.axis.XTick at 0x7f0b0afd0410>,\n",
        "  <matplotlib.axis.XTick at 0x7f0b0afd0b50>,\n",
        "  <matplotlib.axis.XTick at 0x7f0b0afd92d0>,\n",
        "  <matplotlib.axis.XTick at 0x7f0b0b148f90>,\n",
        "  <matplotlib.axis.XTick at 0x7f0b15fe13d0>,\n",
        "  <matplotlib.axis.XTick at 0x7f0b0b388b10>,\n",
        "  <matplotlib.axis.XTick at 0x7f0b0b329e10>,\n",
        "  <matplotlib.axis.XTick at 0x7f0b0b166750>,\n",
        "  <matplotlib.axis.XTick at 0x7f0b0afd9fd0>,\n",
        "  <matplotlib.axis.XTick at 0x7f0b0afe5750>,\n",
        "  <matplotlib.axis.XTick at 0x7f0b0afe5e90>,\n",
        "  <matplotlib.axis.XTick at 0x7f0b0afee610>,\n",
        "  <matplotlib.axis.XTick at 0x7f0b0afeed50>,\n",
        "  <matplotlib.axis.XTick at 0x7f0b0aff94d0>,\n",
        "  <matplotlib.axis.XTick at 0x7f0b0aff9c10>,\n",
        "  <matplotlib.axis.XTick at 0x7f0b0b004390>,\n",
        "  <matplotlib.axis.XTick at 0x7f0b0b004ad0>,\n",
        "  <matplotlib.axis.XTick at 0x7f0b0b00d250>,\n",
        "  <matplotlib.axis.XTick at 0x7f0b0b00d990>,\n",
        "  <matplotlib.axis.XTick at 0x7f0b0af97110>,\n",
        "  <matplotlib.axis.XTick at 0x7f0b0af97850>,\n",
        "  <matplotlib.axis.XTick at 0x7f0b0af97f90>,\n",
        "  <matplotlib.axis.XTick at 0x7f0b0afa1710>,\n",
        "  <matplotlib.axis.XTick at 0x7f0b0afa1e50>,\n",
        "  <matplotlib.axis.XTick at 0x7f0b0afab5d0>],\n",
        " <a list of 28 Text xticklabel objects>)"
       ]
      },
      {
       "metadata": {},
       "output_type": "display_data",
       "png": "[encoded data removed]",
       "text": [
        "<matplotlib.figure.Figure at 0x7f0b0b18ea50>"
       ]
      }
     ],
     "prompt_number": 108
    },
    {
     "cell_type": "code",
     "collapsed": false,
     "input": [
      "fig, axs = pl.subplots(1,3)\n",
      "\n",
      "df_14['norm_count'].plot(ax=axs[0])\n",
      "df_11['norm_count'].plot(ax=axs[1])\n",
      "df_10['norm_count'].plot(ax=axs[2])\n",
      "#pl.xticks(range(df_10.shape[0]), df_10.word, size='medium', rotation='vertical')"
     ],
     "language": "python",
     "metadata": {},
     "outputs": [
      {
       "metadata": {},
       "output_type": "pyout",
       "prompt_number": 123,
       "text": [
        "<matplotlib.axes.AxesSubplot at 0x7f0b0a707a90>"
       ]
      },
      {
       "metadata": {},
       "output_type": "display_data",
       "png": "[encoded data removed]",
       "text": [
        "<matplotlib.figure.Figure at 0x7f0b0a7eef50>"
       ]
      }
     ],
     "prompt_number": 123
    },
    {
     "cell_type": "code",
     "collapsed": false,
     "input": [
      "t1 = scipy.stats.kruskal(df_11.norm_count, df_14.norm_count)\n",
      "t2 = scipy.stats.kruskal(df_11.norm_count, df_10.norm_count)\n",
      "t3 = scipy.stats.kruskal(df_14.norm_count, df_10.norm_count)\n",
      "print(t1)\n",
      "print(t2)\n",
      "print(t3)"
     ],
     "language": "python",
     "metadata": {},
     "outputs": [
      {
       "output_type": "stream",
       "stream": "stdout",
       "text": [
        "(0.20322745350960505, 0.6521282542355169)\n",
        "(0.16792785575056832, 0.68195999204499247)\n",
        "(0.0043001294925139166, 0.94771589671310952)\n"
       ]
      }
     ],
     "prompt_number": 118
    },
    {
     "cell_type": "code",
     "collapsed": false,
     "input": [
      "scipy.stats.wilcoxon(df_11.norm_count, df_14.norm_count)  #assumes normality"
     ],
     "language": "python",
     "metadata": {},
     "outputs": [
      {
       "metadata": {},
       "output_type": "pyout",
       "prompt_number": 112,
       "text": [
        "(36.5, 0.00068080358216353744)"
       ]
      }
     ],
     "prompt_number": 112
    },
    {
     "cell_type": "code",
     "collapsed": false,
     "input": [
      "scipy.stats.chisquare(df_14.norm_count, df_11.norm_count)\n"
     ],
     "language": "python",
     "metadata": {},
     "outputs": [
      {
       "metadata": {},
       "output_type": "pyout",
       "prompt_number": 127,
       "text": [
        "(114.93246304572013, 8.0583522066896693e-13)"
       ]
      }
     ],
     "prompt_number": 127
    }
   ],
   "metadata": {}
  }
 ]
}